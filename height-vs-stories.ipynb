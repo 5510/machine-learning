{
 "cells": [
  {
   "cell_type": "markdown",
   "metadata": {},
   "source": [
    "# What's in a Story?"
   ]
  },
  {
   "cell_type": "markdown",
   "metadata": {},
   "source": [
    "The file `bldgstories.txt` lists the height of various buildings vs. the number of stories listed. Since a story isn't a well-defined unit of measurement, we'd like to see how many feet there are in a story."
   ]
  },
  {
   "cell_type": "code",
   "execution_count": 1,
   "metadata": {
    "collapsed": true
   },
   "outputs": [],
   "source": [
    "%matplotlib inline\n",
    "#Typical imports\n",
    "import matplotlib\n",
    "import matplotlib.pyplot as plt\n",
    "import numpy as np\n",
    "import tensorflow as tf\n",
    "import pandas as pd\n",
    "\n",
    "# plots on fleek\n",
    "matplotlib.style.use('ggplot')"
   ]
  },
  {
   "cell_type": "markdown",
   "metadata": {},
   "source": [
    "If you look at the raw data, you can see that the columns are separated by tabs, not commas. This changes the way we need to read the data in."
   ]
  },
  {
   "cell_type": "code",
   "execution_count": 2,
   "metadata": {
    "collapsed": false
   },
   "outputs": [],
   "source": [
    "# Read the housing data from the txt file into a pandas dataframe\n",
    "# delim_whitespace tells the read_table method to look for\n",
    "# whitespace as a separator.\n",
    "\n",
    "df = pd.read_table('data/bldgstories.txt', \n",
    "                   usecols=[1,2], delim_whitespace=True, header=0,\n",
    "                   names=['Height in Feet', 'No. Stories'],\n",
    "                   dtype=np.float32)\n"
   ]
  },
  {
   "cell_type": "markdown",
   "metadata": {},
   "source": [
    "Let's take a look at the dataframe to ensure it looks the way we expect."
   ]
  },
  {
   "cell_type": "code",
   "execution_count": 3,
   "metadata": {
    "collapsed": false
   },
   "outputs": [
    {
     "data": {
      "text/html": [
       "<div>\n",
       "<table border=\"1\" class=\"dataframe\">\n",
       "  <thead>\n",
       "    <tr style=\"text-align: right;\">\n",
       "      <th></th>\n",
       "      <th>Height in Feet</th>\n",
       "      <th>No. Stories</th>\n",
       "    </tr>\n",
       "  </thead>\n",
       "  <tbody>\n",
       "    <tr>\n",
       "      <th>0</th>\n",
       "      <td>770.0</td>\n",
       "      <td>54.0</td>\n",
       "    </tr>\n",
       "    <tr>\n",
       "      <th>1</th>\n",
       "      <td>677.0</td>\n",
       "      <td>47.0</td>\n",
       "    </tr>\n",
       "    <tr>\n",
       "      <th>2</th>\n",
       "      <td>428.0</td>\n",
       "      <td>28.0</td>\n",
       "    </tr>\n",
       "    <tr>\n",
       "      <th>3</th>\n",
       "      <td>410.0</td>\n",
       "      <td>38.0</td>\n",
       "    </tr>\n",
       "    <tr>\n",
       "      <th>4</th>\n",
       "      <td>371.0</td>\n",
       "      <td>29.0</td>\n",
       "    </tr>\n",
       "  </tbody>\n",
       "</table>\n",
       "</div>"
      ],
      "text/plain": [
       "   Height in Feet  No. Stories\n",
       "0           770.0         54.0\n",
       "1           677.0         47.0\n",
       "2           428.0         28.0\n",
       "3           410.0         38.0\n",
       "4           371.0         29.0"
      ]
     },
     "execution_count": 3,
     "metadata": {},
     "output_type": "execute_result"
    }
   ],
   "source": [
    "# Display the first few records\n",
    "df.head()"
   ]
  },
  {
   "cell_type": "markdown",
   "metadata": {},
   "source": [
    "Looks good! Now let's take a different view and consider possible models -- a scatter plot would be useful here."
   ]
  },
  {
   "cell_type": "code",
   "execution_count": 4,
   "metadata": {
    "collapsed": false
   },
   "outputs": [
    {
     "data": {
      "text/plain": [
       "<matplotlib.axes._subplots.AxesSubplot at 0x110f391d0>"
      ]
     },
     "execution_count": 4,
     "metadata": {},
     "output_type": "execute_result"
    },
    {
     "data": {
      "image/png": "[encoded data removed]",
      "text/plain": [
       "<matplotlib.figure.Figure at 0x110ed1ac8>"
      ]
     },
     "metadata": {},
     "output_type": "display_data"
    }
   ],
   "source": [
    "# Visualize the data as a scatter plot \n",
    "# with sq. ft. as the independent variable.\n",
    "df.plot(x='No. Stories', y='Height in Feet', kind='scatter')"
   ]
  },
  {
   "cell_type": "markdown",
   "metadata": {},
   "source": [
    "It seems a linear model could be appropriate in this case. How can we build it with TensorFlow?"
   ]
  },
  {
   "cell_type": "code",
   "execution_count": 5,
   "metadata": {
    "collapsed": false
   },
   "outputs": [],
   "source": [
    "# First we declare our placeholders\n",
    "x = tf.placeholder(tf.float32, [None, 1]) \n",
    "y_ = tf.placeholder(tf.float32, [None, 1]) \n",
    "\n",
    "# Then our variables\n",
    "W = tf.Variable(tf.zeros([1,1]))\n",
    "b = tf.Variable(tf.zeros([1]))\n",
    "\n",
    "# And now we can make our linear model: y = Wx + b\n",
    "y = tf.matmul(x, W) + b\n",
    "\n",
    "# Finally we choose our cost function (SSE in this case)\n",
    "cost = tf.reduce_sum(tf.square(y_-y))"
   ]
  },
  {
   "cell_type": "markdown",
   "metadata": {},
   "source": [
    "And here's where all the magic will happen:"
   ]
  },
  {
   "cell_type": "code",
   "execution_count": 6,
   "metadata": {
    "collapsed": false
   },
   "outputs": [
    {
     "name": "stdout",
     "output_type": "stream",
     "text": [
      "Model: y = 13.22x + 0.98\n"
     ]
    }
   ],
   "source": [
    "# Call tf's gradient descent function with a learning rate and instructions to minimize the cost\n",
    "learn_rate = .00000005\n",
    "train = tf.train.GradientDescentOptimizer(learn_rate).minimize(cost)\n",
    "\n",
    "# Prepare our data to be read into the training session. The data needs to match the \n",
    "# shape we specified earlier -- in this case (n, 1) where n is the number of data points.\n",
    "xdata = np.asarray([[i] for i in df['No. Stories']])\n",
    "y_data = np.asarray([[i] for i in df['Height in Feet']])\n",
    "\n",
    "# Create a tensorflow session, initialize the variables, and run gradient descent\n",
    "with tf.Session() as sess:\n",
    "    sess.run(tf.global_variables_initializer())\n",
    "    for i in range(10000):\n",
    "        # This is the actual training step - feed_dict specifies the data to be read into\n",
    "        # the placeholders x and y_ respectively.\n",
    "        sess.run(train, feed_dict={x:xdata, y_:y_data})\n",
    "    \n",
    "    # Convert our variables from tensors to scalars so we can use them outside tf\n",
    "    height_story = np.asscalar(sess.run(W))\n",
    "    bias = np.asscalar(sess.run(b))\n",
    "\n",
    "print(\"Model: y = %sx + %s\" % (round(height_story,2), round(bias,2)))"
   ]
  },
  {
   "cell_type": "markdown",
   "metadata": {},
   "source": [
    "Seems reasonable - according to our model, a story is about 13 feet. Let's plot the line so we can eyeball the fit."
   ]
  },
  {
   "cell_type": "code",
   "execution_count": 7,
   "metadata": {
    "collapsed": false
   },
   "outputs": [
    {
     "data": {
      "image/png": "[encoded data removed]",
      "text/plain": [
       "<matplotlib.figure.Figure at 0x110f68048>"
      ]
     },
     "metadata": {},
     "output_type": "display_data"
    }
   ],
   "source": [
    "# Create the empty plot\n",
    "fig, axes = plt.subplots()\n",
    "\n",
    "# Draw the scatter plot on the axes we just created\n",
    "df.plot(x='No. Stories', y='Height in Feet', kind='scatter', ax=axes)\n",
    "\n",
    "# Create a range of x values to plug into our model\n",
    "stories = np.arange(10, 120, 1)\n",
    "\n",
    "# Plot the model\n",
    "plt.plot(stories, height_story*stories + bias)\n",
    "plt.show()"
   ]
  },
  {
   "cell_type": "markdown",
   "metadata": {},
   "source": [
    "Everything seems believable. Nice work!"
   ]
  }
 ],
 "metadata": {
  "anaconda-cloud": {},
  "kernelspec": {
   "display_name": "Python [conda root]",
   "language": "python",
   "name": "conda-root-py"
  },
  "language_info": {
   "codemirror_mode": {
    "name": "ipython",
    "version": 3
   },
   "file_extension": ".py",
   "mimetype": "text/x-python",
   "name": "python",
   "nbconvert_exporter": "python",
   "pygments_lexer": "ipython3",
   "version": "3.5.2"
  }
 },
 "nbformat": 4,
 "nbformat_minor": 1
}
